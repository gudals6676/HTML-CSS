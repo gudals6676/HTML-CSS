{
  "nbformat": 4,
  "nbformat_minor": 0,
  "metadata": {
    "colab": {
      "name": "00_keras 맛보기(학생 수학 성적 데이터 예측)",
      "provenance": [],
      "collapsed_sections": [],
      "mount_file_id": "1y6xIgdAvXvi8yo0W8bvWFN0DgiFtCVOn",
      "authorship_tag": "ABX9TyPPsRErxdLbB5DCTTA6Z/zo",
      "include_colab_link": true
    },
    "kernelspec": {
      "name": "python3",
      "display_name": "Python 3"
    },
    "language_info": {
      "name": "python"
    }
  },
  "cells": [
    {
      "cell_type": "markdown",
      "metadata": {
        "id": "view-in-github",
        "colab_type": "text"
      },
      "source": [
        "<a href=\"https://colab.research.google.com/github/gudals6676/HTML-CSS/blob/main/00_keras_%EB%A7%9B%EB%B3%B4%EA%B8%B0(%ED%95%99%EC%83%9D_%EC%88%98%ED%95%99_%EC%84%B1%EC%A0%81_%EB%8D%B0%EC%9D%B4%ED%84%B0_%EC%98%88%EC%B8%A1).ipynb\" target=\"_parent\"><img src=\"https://colab.research.google.com/assets/colab-badge.svg\" alt=\"Open In Colab\"/></a>"
      ]
    },
    {
      "cell_type": "markdown",
      "metadata": {
        "id": "TE6inEWuAL8h"
      },
      "source": [
        "### 목표\n",
        "- 학생 수학 성적을 예측하는 회귀 모델을 만들어보자!\n",
        "- keras를 이용하여 신경망을 구성하는 방법을 연습해보자!"
      ]
    },
    {
      "cell_type": "code",
      "metadata": {
        "id": "-LhfGsjt9Y4-"
      },
      "source": [
        "import numpy as np\n",
        "import pandas as pd\n",
        "import matplotlib.pyplot as plt\n"
      ],
      "execution_count": 2,
      "outputs": []
    },
    {
      "cell_type": "code",
      "metadata": {
        "colab": {
          "base_uri": "https://localhost:8080/",
          "height": 439
        },
        "id": "T3m48VBMAlc4",
        "outputId": "1918de6a-628c-4b75-c802-226c294f4ba8"
      },
      "source": [
        "# 데이터가 ;으로 구분된 파일을 로드\n",
        "data = pd.read_csv(\"/content/drive/MyDrive/Colab Notebooks/빅데이터4차_딥러닝/data/student-mat.csv\",\n",
        "                   delimiter = \";\")\n",
        "# delimiter : csv파일에서 구분자를 설정해주는 명령\n",
        "data"
      ],
      "execution_count": 3,
      "outputs": [
        {
          "output_type": "execute_result",
          "data": {
            "text/html": [
              "<div>\n",
              "<style scoped>\n",
              "    .dataframe tbody tr th:only-of-type {\n",
              "        vertical-align: middle;\n",
              "    }\n",
              "\n",
              "    .dataframe tbody tr th {\n",
              "        vertical-align: top;\n",
              "    }\n",
              "\n",
              "    .dataframe thead th {\n",
              "        text-align: right;\n",
              "    }\n",
              "</style>\n",
              "<table border=\"1\" class=\"dataframe\">\n",
              "  <thead>\n",
              "    <tr style=\"text-align: right;\">\n",
              "      <th></th>\n",
              "      <th>school</th>\n",
              "      <th>sex</th>\n",
              "      <th>age</th>\n",
              "      <th>address</th>\n",
              "      <th>famsize</th>\n",
              "      <th>Pstatus</th>\n",
              "      <th>Medu</th>\n",
              "      <th>Fedu</th>\n",
              "      <th>Mjob</th>\n",
              "      <th>Fjob</th>\n",
              "      <th>reason</th>\n",
              "      <th>guardian</th>\n",
              "      <th>traveltime</th>\n",
              "      <th>studytime</th>\n",
              "      <th>failures</th>\n",
              "      <th>schoolsup</th>\n",
              "      <th>famsup</th>\n",
              "      <th>paid</th>\n",
              "      <th>activities</th>\n",
              "      <th>nursery</th>\n",
              "      <th>higher</th>\n",
              "      <th>internet</th>\n",
              "      <th>romantic</th>\n",
              "      <th>famrel</th>\n",
              "      <th>freetime</th>\n",
              "      <th>goout</th>\n",
              "      <th>Dalc</th>\n",
              "      <th>Walc</th>\n",
              "      <th>health</th>\n",
              "      <th>absences</th>\n",
              "      <th>G1</th>\n",
              "      <th>G2</th>\n",
              "      <th>G3</th>\n",
              "    </tr>\n",
              "  </thead>\n",
              "  <tbody>\n",
              "    <tr>\n",
              "      <th>0</th>\n",
              "      <td>GP</td>\n",
              "      <td>F</td>\n",
              "      <td>18</td>\n",
              "      <td>U</td>\n",
              "      <td>GT3</td>\n",
              "      <td>A</td>\n",
              "      <td>4</td>\n",
              "      <td>4</td>\n",
              "      <td>at_home</td>\n",
              "      <td>teacher</td>\n",
              "      <td>course</td>\n",
              "      <td>mother</td>\n",
              "      <td>2</td>\n",
              "      <td>2</td>\n",
              "      <td>0</td>\n",
              "      <td>yes</td>\n",
              "      <td>no</td>\n",
              "      <td>no</td>\n",
              "      <td>no</td>\n",
              "      <td>yes</td>\n",
              "      <td>yes</td>\n",
              "      <td>no</td>\n",
              "      <td>no</td>\n",
              "      <td>4</td>\n",
              "      <td>3</td>\n",
              "      <td>4</td>\n",
              "      <td>1</td>\n",
              "      <td>1</td>\n",
              "      <td>3</td>\n",
              "      <td>6</td>\n",
              "      <td>5</td>\n",
              "      <td>6</td>\n",
              "      <td>6</td>\n",
              "    </tr>\n",
              "    <tr>\n",
              "      <th>1</th>\n",
              "      <td>GP</td>\n",
              "      <td>F</td>\n",
              "      <td>17</td>\n",
              "      <td>U</td>\n",
              "      <td>GT3</td>\n",
              "      <td>T</td>\n",
              "      <td>1</td>\n",
              "      <td>1</td>\n",
              "      <td>at_home</td>\n",
              "      <td>other</td>\n",
              "      <td>course</td>\n",
              "      <td>father</td>\n",
              "      <td>1</td>\n",
              "      <td>2</td>\n",
              "      <td>0</td>\n",
              "      <td>no</td>\n",
              "      <td>yes</td>\n",
              "      <td>no</td>\n",
              "      <td>no</td>\n",
              "      <td>no</td>\n",
              "      <td>yes</td>\n",
              "      <td>yes</td>\n",
              "      <td>no</td>\n",
              "      <td>5</td>\n",
              "      <td>3</td>\n",
              "      <td>3</td>\n",
              "      <td>1</td>\n",
              "      <td>1</td>\n",
              "      <td>3</td>\n",
              "      <td>4</td>\n",
              "      <td>5</td>\n",
              "      <td>5</td>\n",
              "      <td>6</td>\n",
              "    </tr>\n",
              "    <tr>\n",
              "      <th>2</th>\n",
              "      <td>GP</td>\n",
              "      <td>F</td>\n",
              "      <td>15</td>\n",
              "      <td>U</td>\n",
              "      <td>LE3</td>\n",
              "      <td>T</td>\n",
              "      <td>1</td>\n",
              "      <td>1</td>\n",
              "      <td>at_home</td>\n",
              "      <td>other</td>\n",
              "      <td>other</td>\n",
              "      <td>mother</td>\n",
              "      <td>1</td>\n",
              "      <td>2</td>\n",
              "      <td>3</td>\n",
              "      <td>yes</td>\n",
              "      <td>no</td>\n",
              "      <td>yes</td>\n",
              "      <td>no</td>\n",
              "      <td>yes</td>\n",
              "      <td>yes</td>\n",
              "      <td>yes</td>\n",
              "      <td>no</td>\n",
              "      <td>4</td>\n",
              "      <td>3</td>\n",
              "      <td>2</td>\n",
              "      <td>2</td>\n",
              "      <td>3</td>\n",
              "      <td>3</td>\n",
              "      <td>10</td>\n",
              "      <td>7</td>\n",
              "      <td>8</td>\n",
              "      <td>10</td>\n",
              "    </tr>\n",
              "    <tr>\n",
              "      <th>3</th>\n",
              "      <td>GP</td>\n",
              "      <td>F</td>\n",
              "      <td>15</td>\n",
              "      <td>U</td>\n",
              "      <td>GT3</td>\n",
              "      <td>T</td>\n",
              "      <td>4</td>\n",
              "      <td>2</td>\n",
              "      <td>health</td>\n",
              "      <td>services</td>\n",
              "      <td>home</td>\n",
              "      <td>mother</td>\n",
              "      <td>1</td>\n",
              "      <td>3</td>\n",
              "      <td>0</td>\n",
              "      <td>no</td>\n",
              "      <td>yes</td>\n",
              "      <td>yes</td>\n",
              "      <td>yes</td>\n",
              "      <td>yes</td>\n",
              "      <td>yes</td>\n",
              "      <td>yes</td>\n",
              "      <td>yes</td>\n",
              "      <td>3</td>\n",
              "      <td>2</td>\n",
              "      <td>2</td>\n",
              "      <td>1</td>\n",
              "      <td>1</td>\n",
              "      <td>5</td>\n",
              "      <td>2</td>\n",
              "      <td>15</td>\n",
              "      <td>14</td>\n",
              "      <td>15</td>\n",
              "    </tr>\n",
              "    <tr>\n",
              "      <th>4</th>\n",
              "      <td>GP</td>\n",
              "      <td>F</td>\n",
              "      <td>16</td>\n",
              "      <td>U</td>\n",
              "      <td>GT3</td>\n",
              "      <td>T</td>\n",
              "      <td>3</td>\n",
              "      <td>3</td>\n",
              "      <td>other</td>\n",
              "      <td>other</td>\n",
              "      <td>home</td>\n",
              "      <td>father</td>\n",
              "      <td>1</td>\n",
              "      <td>2</td>\n",
              "      <td>0</td>\n",
              "      <td>no</td>\n",
              "      <td>yes</td>\n",
              "      <td>yes</td>\n",
              "      <td>no</td>\n",
              "      <td>yes</td>\n",
              "      <td>yes</td>\n",
              "      <td>no</td>\n",
              "      <td>no</td>\n",
              "      <td>4</td>\n",
              "      <td>3</td>\n",
              "      <td>2</td>\n",
              "      <td>1</td>\n",
              "      <td>2</td>\n",
              "      <td>5</td>\n",
              "      <td>4</td>\n",
              "      <td>6</td>\n",
              "      <td>10</td>\n",
              "      <td>10</td>\n",
              "    </tr>\n",
              "    <tr>\n",
              "      <th>...</th>\n",
              "      <td>...</td>\n",
              "      <td>...</td>\n",
              "      <td>...</td>\n",
              "      <td>...</td>\n",
              "      <td>...</td>\n",
              "      <td>...</td>\n",
              "      <td>...</td>\n",
              "      <td>...</td>\n",
              "      <td>...</td>\n",
              "      <td>...</td>\n",
              "      <td>...</td>\n",
              "      <td>...</td>\n",
              "      <td>...</td>\n",
              "      <td>...</td>\n",
              "      <td>...</td>\n",
              "      <td>...</td>\n",
              "      <td>...</td>\n",
              "      <td>...</td>\n",
              "      <td>...</td>\n",
              "      <td>...</td>\n",
              "      <td>...</td>\n",
              "      <td>...</td>\n",
              "      <td>...</td>\n",
              "      <td>...</td>\n",
              "      <td>...</td>\n",
              "      <td>...</td>\n",
              "      <td>...</td>\n",
              "      <td>...</td>\n",
              "      <td>...</td>\n",
              "      <td>...</td>\n",
              "      <td>...</td>\n",
              "      <td>...</td>\n",
              "      <td>...</td>\n",
              "    </tr>\n",
              "    <tr>\n",
              "      <th>390</th>\n",
              "      <td>MS</td>\n",
              "      <td>M</td>\n",
              "      <td>20</td>\n",
              "      <td>U</td>\n",
              "      <td>LE3</td>\n",
              "      <td>A</td>\n",
              "      <td>2</td>\n",
              "      <td>2</td>\n",
              "      <td>services</td>\n",
              "      <td>services</td>\n",
              "      <td>course</td>\n",
              "      <td>other</td>\n",
              "      <td>1</td>\n",
              "      <td>2</td>\n",
              "      <td>2</td>\n",
              "      <td>no</td>\n",
              "      <td>yes</td>\n",
              "      <td>yes</td>\n",
              "      <td>no</td>\n",
              "      <td>yes</td>\n",
              "      <td>yes</td>\n",
              "      <td>no</td>\n",
              "      <td>no</td>\n",
              "      <td>5</td>\n",
              "      <td>5</td>\n",
              "      <td>4</td>\n",
              "      <td>4</td>\n",
              "      <td>5</td>\n",
              "      <td>4</td>\n",
              "      <td>11</td>\n",
              "      <td>9</td>\n",
              "      <td>9</td>\n",
              "      <td>9</td>\n",
              "    </tr>\n",
              "    <tr>\n",
              "      <th>391</th>\n",
              "      <td>MS</td>\n",
              "      <td>M</td>\n",
              "      <td>17</td>\n",
              "      <td>U</td>\n",
              "      <td>LE3</td>\n",
              "      <td>T</td>\n",
              "      <td>3</td>\n",
              "      <td>1</td>\n",
              "      <td>services</td>\n",
              "      <td>services</td>\n",
              "      <td>course</td>\n",
              "      <td>mother</td>\n",
              "      <td>2</td>\n",
              "      <td>1</td>\n",
              "      <td>0</td>\n",
              "      <td>no</td>\n",
              "      <td>no</td>\n",
              "      <td>no</td>\n",
              "      <td>no</td>\n",
              "      <td>no</td>\n",
              "      <td>yes</td>\n",
              "      <td>yes</td>\n",
              "      <td>no</td>\n",
              "      <td>2</td>\n",
              "      <td>4</td>\n",
              "      <td>5</td>\n",
              "      <td>3</td>\n",
              "      <td>4</td>\n",
              "      <td>2</td>\n",
              "      <td>3</td>\n",
              "      <td>14</td>\n",
              "      <td>16</td>\n",
              "      <td>16</td>\n",
              "    </tr>\n",
              "    <tr>\n",
              "      <th>392</th>\n",
              "      <td>MS</td>\n",
              "      <td>M</td>\n",
              "      <td>21</td>\n",
              "      <td>R</td>\n",
              "      <td>GT3</td>\n",
              "      <td>T</td>\n",
              "      <td>1</td>\n",
              "      <td>1</td>\n",
              "      <td>other</td>\n",
              "      <td>other</td>\n",
              "      <td>course</td>\n",
              "      <td>other</td>\n",
              "      <td>1</td>\n",
              "      <td>1</td>\n",
              "      <td>3</td>\n",
              "      <td>no</td>\n",
              "      <td>no</td>\n",
              "      <td>no</td>\n",
              "      <td>no</td>\n",
              "      <td>no</td>\n",
              "      <td>yes</td>\n",
              "      <td>no</td>\n",
              "      <td>no</td>\n",
              "      <td>5</td>\n",
              "      <td>5</td>\n",
              "      <td>3</td>\n",
              "      <td>3</td>\n",
              "      <td>3</td>\n",
              "      <td>3</td>\n",
              "      <td>3</td>\n",
              "      <td>10</td>\n",
              "      <td>8</td>\n",
              "      <td>7</td>\n",
              "    </tr>\n",
              "    <tr>\n",
              "      <th>393</th>\n",
              "      <td>MS</td>\n",
              "      <td>M</td>\n",
              "      <td>18</td>\n",
              "      <td>R</td>\n",
              "      <td>LE3</td>\n",
              "      <td>T</td>\n",
              "      <td>3</td>\n",
              "      <td>2</td>\n",
              "      <td>services</td>\n",
              "      <td>other</td>\n",
              "      <td>course</td>\n",
              "      <td>mother</td>\n",
              "      <td>3</td>\n",
              "      <td>1</td>\n",
              "      <td>0</td>\n",
              "      <td>no</td>\n",
              "      <td>no</td>\n",
              "      <td>no</td>\n",
              "      <td>no</td>\n",
              "      <td>no</td>\n",
              "      <td>yes</td>\n",
              "      <td>yes</td>\n",
              "      <td>no</td>\n",
              "      <td>4</td>\n",
              "      <td>4</td>\n",
              "      <td>1</td>\n",
              "      <td>3</td>\n",
              "      <td>4</td>\n",
              "      <td>5</td>\n",
              "      <td>0</td>\n",
              "      <td>11</td>\n",
              "      <td>12</td>\n",
              "      <td>10</td>\n",
              "    </tr>\n",
              "    <tr>\n",
              "      <th>394</th>\n",
              "      <td>MS</td>\n",
              "      <td>M</td>\n",
              "      <td>19</td>\n",
              "      <td>U</td>\n",
              "      <td>LE3</td>\n",
              "      <td>T</td>\n",
              "      <td>1</td>\n",
              "      <td>1</td>\n",
              "      <td>other</td>\n",
              "      <td>at_home</td>\n",
              "      <td>course</td>\n",
              "      <td>father</td>\n",
              "      <td>1</td>\n",
              "      <td>1</td>\n",
              "      <td>0</td>\n",
              "      <td>no</td>\n",
              "      <td>no</td>\n",
              "      <td>no</td>\n",
              "      <td>no</td>\n",
              "      <td>yes</td>\n",
              "      <td>yes</td>\n",
              "      <td>yes</td>\n",
              "      <td>no</td>\n",
              "      <td>3</td>\n",
              "      <td>2</td>\n",
              "      <td>3</td>\n",
              "      <td>3</td>\n",
              "      <td>3</td>\n",
              "      <td>5</td>\n",
              "      <td>5</td>\n",
              "      <td>8</td>\n",
              "      <td>9</td>\n",
              "      <td>9</td>\n",
              "    </tr>\n",
              "  </tbody>\n",
              "</table>\n",
              "<p>395 rows × 33 columns</p>\n",
              "</div>"
            ],
            "text/plain": [
              "    school sex  age address famsize Pstatus  ...  Walc  health absences  G1  G2  G3\n",
              "0       GP   F   18       U     GT3       A  ...     1       3        6   5   6   6\n",
              "1       GP   F   17       U     GT3       T  ...     1       3        4   5   5   6\n",
              "2       GP   F   15       U     LE3       T  ...     3       3       10   7   8  10\n",
              "3       GP   F   15       U     GT3       T  ...     1       5        2  15  14  15\n",
              "4       GP   F   16       U     GT3       T  ...     2       5        4   6  10  10\n",
              "..     ...  ..  ...     ...     ...     ...  ...   ...     ...      ...  ..  ..  ..\n",
              "390     MS   M   20       U     LE3       A  ...     5       4       11   9   9   9\n",
              "391     MS   M   17       U     LE3       T  ...     4       2        3  14  16  16\n",
              "392     MS   M   21       R     GT3       T  ...     3       3        3  10   8   7\n",
              "393     MS   M   18       R     LE3       T  ...     4       5        0  11  12  10\n",
              "394     MS   M   19       U     LE3       T  ...     3       5        5   8   9   9\n",
              "\n",
              "[395 rows x 33 columns]"
            ]
          },
          "metadata": {
            "tags": []
          },
          "execution_count": 3
        }
      ]
    },
    {
      "cell_type": "code",
      "metadata": {
        "colab": {
          "base_uri": "https://localhost:8080/"
        },
        "id": "CDhTtJKCBbVq",
        "outputId": "fb30e015-09ce-46aa-c564-08bbc5933ed5"
      },
      "source": [
        "data.shape"
      ],
      "execution_count": 4,
      "outputs": [
        {
          "output_type": "execute_result",
          "data": {
            "text/plain": [
              "(395, 33)"
            ]
          },
          "metadata": {
            "tags": []
          },
          "execution_count": 4
        }
      ]
    },
    {
      "cell_type": "markdown",
      "metadata": {
        "id": "YVDAmd6fCLmp"
      },
      "source": [
        "- 문제, 정답 분리"
      ]
    },
    {
      "cell_type": "code",
      "metadata": {
        "id": "ApiuQLpACJnq"
      },
      "source": [
        "# 문제는 studytime, 정답은 G3로 설정해주세요~!\n",
        "X = data[\"studytime\"] # 문제\n",
        "y = data[\"G3\"]        # 정답"
      ],
      "execution_count": 5,
      "outputs": []
    },
    {
      "cell_type": "code",
      "metadata": {
        "colab": {
          "base_uri": "https://localhost:8080/"
        },
        "id": "7HHHpxAACctq",
        "outputId": "eb0f4ee5-6b2f-4ddc-f217-d9ca07201328"
      },
      "source": [
        "X.shape, y.shape"
      ],
      "execution_count": 6,
      "outputs": [
        {
          "output_type": "execute_result",
          "data": {
            "text/plain": [
              "((395,), (395,))"
            ]
          },
          "metadata": {
            "tags": []
          },
          "execution_count": 6
        }
      ]
    },
    {
      "cell_type": "markdown",
      "metadata": {
        "id": "0F_HQxC0DiNi"
      },
      "source": [
        "- 학습, 평가 분리"
      ]
    },
    {
      "cell_type": "code",
      "metadata": {
        "id": "kCgTwr7oCgWB"
      },
      "source": [
        "from sklearn.model_selection import train_test_split"
      ],
      "execution_count": 7,
      "outputs": []
    },
    {
      "cell_type": "code",
      "metadata": {
        "id": "EvqpFRyKDoQe"
      },
      "source": [
        "X_train, X_test, y_train, y_test = train_test_split(X,  #문제\n",
        "                                                    y, #정답\n",
        "                                                    test_size = 0.3,\n",
        "                                                    random_state=3\n",
        "                                                   )"
      ],
      "execution_count": 8,
      "outputs": []
    },
    {
      "cell_type": "code",
      "metadata": {
        "colab": {
          "base_uri": "https://localhost:8080/"
        },
        "id": "-3IqqU2UD5jh",
        "outputId": "24a6766c-7450-42e9-fea6-d9e3aa926ae4"
      },
      "source": [
        "print(X_train.shape)\n",
        "print(X_test.shape)\n",
        "print(y_train.shape)\n",
        "print(y_test.shape)"
      ],
      "execution_count": 9,
      "outputs": [
        {
          "output_type": "stream",
          "text": [
            "(276,)\n",
            "(119,)\n",
            "(276,)\n",
            "(119,)\n"
          ],
          "name": "stdout"
        }
      ]
    },
    {
      "cell_type": "code",
      "metadata": {
        "id": "OwO3SfThEBxq"
      },
      "source": [
        "import warnings\n",
        "warnings.filterwarnings(action=\"ignore\")"
      ],
      "execution_count": 10,
      "outputs": []
    },
    {
      "cell_type": "markdown",
      "metadata": {
        "id": "5rVPZtEMGlfR"
      },
      "source": [
        "신경망 모델 만들기\n",
        "- 1.신경망 구조 설계\n",
        "- 2.신경망 학습/평가 방법설정\n",
        "- 3.학습 및 학습과정 시각화\n",
        "- 4.모델평가"
      ]
    },
    {
      "cell_type": "code",
      "metadata": {
        "id": "1vlUsox4FZVh"
      },
      "source": [
        "# 1. 신경망 구조 설계\n",
        "# Sequential : 신경망의 뼈대를 구축하기 위한 모듈\n",
        "from tensorflow.keras import Sequential\n",
        "# inputLayer : 신경망의 입력층을 생성\n",
        "# Dense : 신경망의 중간층(은닉층), 출력층을 구성해주는 모듈\n",
        "from tensorflow.keras.layers import InputLayer, Dense"
      ],
      "execution_count": 11,
      "outputs": []
    },
    {
      "cell_type": "code",
      "metadata": {
        "colab": {
          "base_uri": "https://localhost:8080/"
        },
        "id": "K2gNsLMKHMCE",
        "outputId": "c4912ea9-3bad-4f7d-a2e7-7413ba098458"
      },
      "source": [
        "# 신경망의 뼈대를 설정\n",
        "model = Sequential()\n",
        "\n",
        "# 입력층 설정\n",
        "# add : 신경망 뼈대에 층을 쌓아주는 명령\n",
        "# input_shape : 입력 데이터의 특성 형태를 설정(1개의 특성)\n",
        "model.add(InputLayer(input_shape=(1,)))\n",
        "\n",
        "# 출력층 설정\n",
        "# Dense : 하나의 층을 쌓아주는 명령\n",
        "# Dense ()안의 숫자는 해당 층에 생성해줄 뉴런의 개수\n",
        "model.add(Dense(1))\n",
        "\n",
        "# 설계된 신경망의 정보를 요약해서 출력\n",
        "model.summary()"
      ],
      "execution_count": 12,
      "outputs": [
        {
          "output_type": "stream",
          "text": [
            "Model: \"sequential\"\n",
            "_________________________________________________________________\n",
            "Layer (type)                 Output Shape              Param #   \n",
            "=================================================================\n",
            "dense (Dense)                (None, 1)                 2         \n",
            "=================================================================\n",
            "Total params: 2\n",
            "Trainable params: 2\n",
            "Non-trainable params: 0\n",
            "_________________________________________________________________\n"
          ],
          "name": "stdout"
        }
      ]
    },
    {
      "cell_type": "code",
      "metadata": {
        "id": "S24b1gD9L0GL"
      },
      "source": [
        "# 2. 신경망 학습/평가 방법 설정\n",
        "model.compile(loss = 'mse',         # 손실함수(비용함수) : MSE(성적을 구하는 회귀 모데일이기 때문)\n",
        "              optimizer = 'SGD'     # 최적화함수 : 경사하강법의 방법을 설정(SGD : 확률적 경사하강법)\n",
        "              )"
      ],
      "execution_count": 13,
      "outputs": []
    },
    {
      "cell_type": "code",
      "metadata": {
        "colab": {
          "base_uri": "https://localhost:8080/"
        },
        "id": "ZSXaKwwtN5nx",
        "outputId": "de6dcb8e-348e-4dd5-b270-1c8bff93a065"
      },
      "source": [
        "# 3. 학습\n",
        "h = model.fit(X_train, y_train, epochs=100)\n",
        "# epochs : 학습 횟수를 설정"
      ],
      "execution_count": 14,
      "outputs": [
        {
          "output_type": "stream",
          "text": [
            "Epoch 1/100\n",
            "9/9 [==============================] - 1s 1ms/step - loss: 107.5239\n",
            "Epoch 2/100\n",
            "9/9 [==============================] - 0s 1ms/step - loss: 37.0733\n",
            "Epoch 3/100\n",
            "9/9 [==============================] - 0s 1ms/step - loss: 28.2271\n",
            "Epoch 4/100\n",
            "9/9 [==============================] - 0s 1ms/step - loss: 26.8831\n",
            "Epoch 5/100\n",
            "9/9 [==============================] - 0s 1ms/step - loss: 26.5295\n",
            "Epoch 6/100\n",
            "9/9 [==============================] - 0s 1ms/step - loss: 26.1773\n",
            "Epoch 7/100\n",
            "9/9 [==============================] - 0s 2ms/step - loss: 25.9764\n",
            "Epoch 8/100\n",
            "9/9 [==============================] - 0s 1ms/step - loss: 25.7238\n",
            "Epoch 9/100\n",
            "9/9 [==============================] - 0s 1ms/step - loss: 25.5298\n",
            "Epoch 10/100\n",
            "9/9 [==============================] - 0s 1ms/step - loss: 25.3563\n",
            "Epoch 11/100\n",
            "9/9 [==============================] - 0s 1ms/step - loss: 25.1128\n",
            "Epoch 12/100\n",
            "9/9 [==============================] - 0s 1ms/step - loss: 24.9715\n",
            "Epoch 13/100\n",
            "9/9 [==============================] - 0s 1ms/step - loss: 24.7983\n",
            "Epoch 14/100\n",
            "9/9 [==============================] - 0s 2ms/step - loss: 24.6125\n",
            "Epoch 15/100\n",
            "9/9 [==============================] - 0s 2ms/step - loss: 24.3812\n",
            "Epoch 16/100\n",
            "9/9 [==============================] - 0s 1ms/step - loss: 24.2761\n",
            "Epoch 17/100\n",
            "9/9 [==============================] - 0s 2ms/step - loss: 24.0706\n",
            "Epoch 18/100\n",
            "9/9 [==============================] - 0s 2ms/step - loss: 23.9785\n",
            "Epoch 19/100\n",
            "9/9 [==============================] - 0s 2ms/step - loss: 23.7949\n",
            "Epoch 20/100\n",
            "9/9 [==============================] - 0s 2ms/step - loss: 23.6501\n",
            "Epoch 21/100\n",
            "9/9 [==============================] - 0s 2ms/step - loss: 23.5069\n",
            "Epoch 22/100\n",
            "9/9 [==============================] - 0s 1ms/step - loss: 23.4125\n",
            "Epoch 23/100\n",
            "9/9 [==============================] - 0s 2ms/step - loss: 23.2935\n",
            "Epoch 24/100\n",
            "9/9 [==============================] - 0s 1ms/step - loss: 23.2189\n",
            "Epoch 25/100\n",
            "9/9 [==============================] - 0s 2ms/step - loss: 23.0852\n",
            "Epoch 26/100\n",
            "9/9 [==============================] - 0s 2ms/step - loss: 22.9883\n",
            "Epoch 27/100\n",
            "9/9 [==============================] - 0s 1ms/step - loss: 22.8941\n",
            "Epoch 28/100\n",
            "9/9 [==============================] - 0s 1ms/step - loss: 22.7726\n",
            "Epoch 29/100\n",
            "9/9 [==============================] - 0s 1ms/step - loss: 22.6418\n",
            "Epoch 30/100\n",
            "9/9 [==============================] - 0s 1ms/step - loss: 22.5747\n",
            "Epoch 31/100\n",
            "9/9 [==============================] - 0s 2ms/step - loss: 22.4757\n",
            "Epoch 32/100\n",
            "9/9 [==============================] - 0s 1ms/step - loss: 22.3934\n",
            "Epoch 33/100\n",
            "9/9 [==============================] - 0s 1ms/step - loss: 22.2997\n",
            "Epoch 34/100\n",
            "9/9 [==============================] - 0s 1ms/step - loss: 22.3051\n",
            "Epoch 35/100\n",
            "9/9 [==============================] - 0s 2ms/step - loss: 22.2093\n",
            "Epoch 36/100\n",
            "9/9 [==============================] - 0s 1ms/step - loss: 22.1121\n",
            "Epoch 37/100\n",
            "9/9 [==============================] - 0s 1ms/step - loss: 22.0753\n",
            "Epoch 38/100\n",
            "9/9 [==============================] - 0s 1ms/step - loss: 22.0039\n",
            "Epoch 39/100\n",
            "9/9 [==============================] - 0s 1ms/step - loss: 21.9991\n",
            "Epoch 40/100\n",
            "9/9 [==============================] - 0s 1ms/step - loss: 21.8821\n",
            "Epoch 41/100\n",
            "9/9 [==============================] - 0s 2ms/step - loss: 21.8234\n",
            "Epoch 42/100\n",
            "9/9 [==============================] - 0s 1ms/step - loss: 21.8303\n",
            "Epoch 43/100\n",
            "9/9 [==============================] - 0s 1ms/step - loss: 21.6992\n",
            "Epoch 44/100\n",
            "9/9 [==============================] - 0s 1ms/step - loss: 21.7149\n",
            "Epoch 45/100\n",
            "9/9 [==============================] - 0s 2ms/step - loss: 21.6223\n",
            "Epoch 46/100\n",
            "9/9 [==============================] - 0s 2ms/step - loss: 21.5640\n",
            "Epoch 47/100\n",
            "9/9 [==============================] - 0s 2ms/step - loss: 21.5735\n",
            "Epoch 48/100\n",
            "9/9 [==============================] - 0s 2ms/step - loss: 21.4825\n",
            "Epoch 49/100\n",
            "9/9 [==============================] - 0s 2ms/step - loss: 21.4469\n",
            "Epoch 50/100\n",
            "9/9 [==============================] - 0s 1ms/step - loss: 21.4132\n",
            "Epoch 51/100\n",
            "9/9 [==============================] - 0s 1ms/step - loss: 21.4231\n",
            "Epoch 52/100\n",
            "9/9 [==============================] - 0s 1ms/step - loss: 21.3706\n",
            "Epoch 53/100\n",
            "9/9 [==============================] - 0s 1ms/step - loss: 21.3467\n",
            "Epoch 54/100\n",
            "9/9 [==============================] - 0s 2ms/step - loss: 21.3201\n",
            "Epoch 55/100\n",
            "9/9 [==============================] - 0s 1ms/step - loss: 21.2929\n",
            "Epoch 56/100\n",
            "9/9 [==============================] - 0s 2ms/step - loss: 21.3094\n",
            "Epoch 57/100\n",
            "9/9 [==============================] - 0s 2ms/step - loss: 21.2905\n",
            "Epoch 58/100\n",
            "9/9 [==============================] - 0s 1ms/step - loss: 21.1916\n",
            "Epoch 59/100\n",
            "9/9 [==============================] - 0s 1ms/step - loss: 21.1972\n",
            "Epoch 60/100\n",
            "9/9 [==============================] - 0s 1ms/step - loss: 21.1300\n",
            "Epoch 61/100\n",
            "9/9 [==============================] - 0s 1ms/step - loss: 21.1194\n",
            "Epoch 62/100\n",
            "9/9 [==============================] - 0s 1ms/step - loss: 21.0622\n",
            "Epoch 63/100\n",
            "9/9 [==============================] - 0s 1ms/step - loss: 21.1025\n",
            "Epoch 64/100\n",
            "9/9 [==============================] - 0s 2ms/step - loss: 21.0304\n",
            "Epoch 65/100\n",
            "9/9 [==============================] - 0s 1ms/step - loss: 21.0256\n",
            "Epoch 66/100\n",
            "9/9 [==============================] - 0s 1ms/step - loss: 20.9845\n",
            "Epoch 67/100\n",
            "9/9 [==============================] - 0s 2ms/step - loss: 21.0411\n",
            "Epoch 68/100\n",
            "9/9 [==============================] - 0s 2ms/step - loss: 20.9972\n",
            "Epoch 69/100\n",
            "9/9 [==============================] - 0s 2ms/step - loss: 20.9749\n",
            "Epoch 70/100\n",
            "9/9 [==============================] - 0s 2ms/step - loss: 20.9915\n",
            "Epoch 71/100\n",
            "9/9 [==============================] - 0s 2ms/step - loss: 20.9209\n",
            "Epoch 72/100\n",
            "9/9 [==============================] - 0s 2ms/step - loss: 20.9654\n",
            "Epoch 73/100\n",
            "9/9 [==============================] - 0s 2ms/step - loss: 20.9608\n",
            "Epoch 74/100\n",
            "9/9 [==============================] - 0s 1ms/step - loss: 20.9595\n",
            "Epoch 75/100\n",
            "9/9 [==============================] - 0s 2ms/step - loss: 20.9244\n",
            "Epoch 76/100\n",
            "9/9 [==============================] - 0s 2ms/step - loss: 20.8924\n",
            "Epoch 77/100\n",
            "9/9 [==============================] - 0s 1ms/step - loss: 20.8788\n",
            "Epoch 78/100\n",
            "9/9 [==============================] - 0s 2ms/step - loss: 20.8587\n",
            "Epoch 79/100\n",
            "9/9 [==============================] - 0s 2ms/step - loss: 20.8228\n",
            "Epoch 80/100\n",
            "9/9 [==============================] - 0s 2ms/step - loss: 20.8633\n",
            "Epoch 81/100\n",
            "9/9 [==============================] - 0s 1ms/step - loss: 20.8274\n",
            "Epoch 82/100\n",
            "9/9 [==============================] - 0s 1ms/step - loss: 20.8244\n",
            "Epoch 83/100\n",
            "9/9 [==============================] - 0s 1ms/step - loss: 20.8418\n",
            "Epoch 84/100\n",
            "9/9 [==============================] - 0s 2ms/step - loss: 20.8523\n",
            "Epoch 85/100\n",
            "9/9 [==============================] - 0s 2ms/step - loss: 20.8995\n",
            "Epoch 86/100\n",
            "9/9 [==============================] - 0s 2ms/step - loss: 20.8230\n",
            "Epoch 87/100\n",
            "9/9 [==============================] - 0s 2ms/step - loss: 20.7938\n",
            "Epoch 88/100\n",
            "9/9 [==============================] - 0s 1ms/step - loss: 20.7691\n",
            "Epoch 89/100\n",
            "9/9 [==============================] - 0s 2ms/step - loss: 20.7902\n",
            "Epoch 90/100\n",
            "9/9 [==============================] - 0s 2ms/step - loss: 20.7663\n",
            "Epoch 91/100\n",
            "9/9 [==============================] - 0s 1ms/step - loss: 20.8453\n",
            "Epoch 92/100\n",
            "9/9 [==============================] - 0s 1ms/step - loss: 20.7310\n",
            "Epoch 93/100\n",
            "9/9 [==============================] - 0s 1ms/step - loss: 20.7170\n",
            "Epoch 94/100\n",
            "9/9 [==============================] - 0s 2ms/step - loss: 20.7348\n",
            "Epoch 95/100\n",
            "9/9 [==============================] - 0s 2ms/step - loss: 20.7115\n",
            "Epoch 96/100\n",
            "9/9 [==============================] - 0s 3ms/step - loss: 20.7373\n",
            "Epoch 97/100\n",
            "9/9 [==============================] - 0s 2ms/step - loss: 20.7235\n",
            "Epoch 98/100\n",
            "9/9 [==============================] - 0s 1ms/step - loss: 20.7037\n",
            "Epoch 99/100\n",
            "9/9 [==============================] - 0s 1ms/step - loss: 20.6859\n",
            "Epoch 100/100\n",
            "9/9 [==============================] - 0s 2ms/step - loss: 20.7229\n"
          ],
          "name": "stdout"
        }
      ]
    },
    {
      "cell_type": "code",
      "metadata": {
        "colab": {
          "base_uri": "https://localhost:8080/",
          "height": 266
        },
        "id": "nMxDO17COPqY",
        "outputId": "e7057ffd-bf74-4e49-9f12-ecb262d68855"
      },
      "source": [
        "# 4.학습과정 시각화\n",
        "plt.figure(figsize=(15, 5))\n",
        "\n",
        "plt.plot(range(1, 101, 1),     # epochs를 100까지 설정했기 때문에 1, 101\n",
        "         # history : 학습시 출력되는 loss함수 혹은 정확도값을 보기 위한 명령\n",
        "         h.history['loss'],\n",
        "         label='loss'\n",
        "         ) \n",
        "plt.legend()\n",
        "plt.show()"
      ],
      "execution_count": 15,
      "outputs": [
        {
          "output_type": "display_data",
          "data": {
            "image/png": "[encoded data removed]",
            "text/plain": [
              "<Figure size 1080x360 with 1 Axes>"
            ]
          },
          "metadata": {
            "tags": [],
            "needs_background": "light"
          }
        }
      ]
    },
    {
      "cell_type": "markdown",
      "metadata": {
        "id": "l8dbhXflQIRQ"
      },
      "source": [
        "- 초반에는 빠르게 MSE(loss함수)가 떨어지고 있네?\n",
        "- 경사하강법 초반에는 가중치(w), 절편(b) 값이 임의의 값으로 설정되어 있기 때문에 mse가 높았고 조금만 학습시켜보니 빠르게 mse가 줄어드는 것을 볼 수 있다."
      ]
    },
    {
      "cell_type": "code",
      "metadata": {
        "colab": {
          "base_uri": "https://localhost:8080/"
        },
        "id": "2tx_N_AMPmTR",
        "outputId": "806f0b99-54bc-4ca6-ea4f-5ccdfa056b31"
      },
      "source": [
        "# 5. 모델 평가\n",
        "model.evaluate(X_test, y_test)"
      ],
      "execution_count": 16,
      "outputs": [
        {
          "output_type": "stream",
          "text": [
            "4/4 [==============================] - 0s 3ms/step - loss: 21.3355\n"
          ],
          "name": "stdout"
        },
        {
          "output_type": "execute_result",
          "data": {
            "text/plain": [
              "21.335519790649414"
            ]
          },
          "metadata": {
            "tags": []
          },
          "execution_count": 16
        }
      ]
    },
    {
      "cell_type": "markdown",
      "metadata": {
        "id": "YOcFz6AKSn3l"
      },
      "source": [
        "### 입력 특성이 2개인 모델을 직접 만들어보자!\n",
        "- 문제(입력틍성 2개 : studytime, traveltime) X1변수\n",
        "- 정답(G3) y1변수\n",
        "- 최종 출력층의 뉴런 개수는 1개"
      ]
    },
    {
      "cell_type": "code",
      "metadata": {
        "id": "q09qSjx0Q8sg"
      },
      "source": [
        "X1 = data[['studytime','traveltime']]  # 문제\n",
        "y1 = data[\"G3\"]                        # 정답"
      ],
      "execution_count": 17,
      "outputs": []
    },
    {
      "cell_type": "code",
      "metadata": {
        "colab": {
          "base_uri": "https://localhost:8080/"
        },
        "id": "SvOZ5D78S-uf",
        "outputId": "df2d12fc-36c3-4efc-ad12-8ef0199a4bc8"
      },
      "source": [
        "X1.shape, y1.shape"
      ],
      "execution_count": 18,
      "outputs": [
        {
          "output_type": "execute_result",
          "data": {
            "text/plain": [
              "((395, 2), (395,))"
            ]
          },
          "metadata": {
            "tags": []
          },
          "execution_count": 18
        }
      ]
    },
    {
      "cell_type": "code",
      "metadata": {
        "id": "gzYZMtQ_TsC6"
      },
      "source": [
        "X1_train, X1_test, y1_train, y1_test = train_test_split(X1,  #문제\n",
        "                                                    y1, #정답\n",
        "                                                    test_size = 0.3,\n",
        "                                                    random_state=3\n",
        "                                                   )"
      ],
      "execution_count": 35,
      "outputs": []
    },
    {
      "cell_type": "code",
      "metadata": {
        "colab": {
          "base_uri": "https://localhost:8080/"
        },
        "id": "7V2LZmuEU34_",
        "outputId": "ed17c426-8736-40ec-90d6-c66eebada075"
      },
      "source": [
        "print(X1_train.shape)\n",
        "print(X1_test.shape)\n",
        "print(y1_train.shape)\n",
        "print(y1_test.shape)"
      ],
      "execution_count": 36,
      "outputs": [
        {
          "output_type": "stream",
          "text": [
            "(276, 2)\n",
            "(119, 2)\n",
            "(276,)\n",
            "(119,)\n"
          ],
          "name": "stdout"
        }
      ]
    },
    {
      "cell_type": "code",
      "metadata": {
        "colab": {
          "base_uri": "https://localhost:8080/"
        },
        "id": "VyhsrywAT0Jg",
        "outputId": "ebd125b8-a494-4888-b817-62b410a75bce"
      },
      "source": [
        "# 신경망의 뼈대를 설정\n",
        "model1 = Sequential()\n",
        "\n",
        "# 입력층 설정\n",
        "# add : 신경망 뼈대에 층을 쌓아주는 명령\n",
        "# input_shape : 입력 데이터의 특성 형태를 설정(1개의 특성)\n",
        "model1.add(InputLayer(input_shape=(2,)))\n",
        "\n",
        "# 출력층 설정\n",
        "# Dense : 하나의 층을 쌓아주는 명령\n",
        "# Dense ()안의 숫자는 해당 층에 생성해줄 뉴런의 개수\n",
        "model1.add(Dense(1))\n",
        "\n",
        "# 설계된 신경망의 정보를 요약해서 출력\n",
        "model1.summary()"
      ],
      "execution_count": 45,
      "outputs": [
        {
          "output_type": "stream",
          "text": [
            "Model: \"sequential_3\"\n",
            "_________________________________________________________________\n",
            "Layer (type)                 Output Shape              Param #   \n",
            "=================================================================\n",
            "dense_3 (Dense)              (None, 1)                 3         \n",
            "=================================================================\n",
            "Total params: 3\n",
            "Trainable params: 3\n",
            "Non-trainable params: 0\n",
            "_________________________________________________________________\n"
          ],
          "name": "stdout"
        }
      ]
    },
    {
      "cell_type": "code",
      "metadata": {
        "id": "y1ZrawbXT3nO"
      },
      "source": [
        "# 2. 신경망 학습/평가 방법 설정\n",
        "model1.compile(loss = 'mse',         # 손실함수(비용함수) : MSE(성적을 구하는 회귀 모데일이기 때문)\n",
        "              optimizer = 'SGD'     # 최적화함수 : 경사하강법의 방법을 설정(SGD : 확률적 경사하강법)\n",
        "              )"
      ],
      "execution_count": 46,
      "outputs": []
    },
    {
      "cell_type": "code",
      "metadata": {
        "colab": {
          "base_uri": "https://localhost:8080/"
        },
        "id": "xpR2XRqqT9eG",
        "outputId": "cde7db79-dbbd-4811-af5c-56e84bae0aef"
      },
      "source": [
        "h2 = model1.fit(X1_train, y1_train, epochs=100)"
      ],
      "execution_count": 47,
      "outputs": [
        {
          "output_type": "stream",
          "text": [
            "Epoch 1/100\n",
            "9/9 [==============================] - 0s 1ms/step - loss: 82.2756\n",
            "Epoch 2/100\n",
            "9/9 [==============================] - 0s 1ms/step - loss: 29.4903\n",
            "Epoch 3/100\n",
            "9/9 [==============================] - 0s 1ms/step - loss: 27.1064\n",
            "Epoch 4/100\n",
            "9/9 [==============================] - 0s 1ms/step - loss: 26.8149\n",
            "Epoch 5/100\n",
            "9/9 [==============================] - 0s 1ms/step - loss: 26.6631\n",
            "Epoch 6/100\n",
            "9/9 [==============================] - 0s 2ms/step - loss: 26.4055\n",
            "Epoch 7/100\n",
            "9/9 [==============================] - 0s 2ms/step - loss: 26.2276\n",
            "Epoch 8/100\n",
            "9/9 [==============================] - 0s 1ms/step - loss: 26.0601\n",
            "Epoch 9/100\n",
            "9/9 [==============================] - 0s 1ms/step - loss: 26.0189\n",
            "Epoch 10/100\n",
            "9/9 [==============================] - 0s 1ms/step - loss: 25.7940\n",
            "Epoch 11/100\n",
            "9/9 [==============================] - 0s 1ms/step - loss: 25.8523\n",
            "Epoch 12/100\n",
            "9/9 [==============================] - 0s 1ms/step - loss: 25.4933\n",
            "Epoch 13/100\n",
            "9/9 [==============================] - 0s 1ms/step - loss: 25.3064\n",
            "Epoch 14/100\n",
            "9/9 [==============================] - 0s 1ms/step - loss: 25.1990\n",
            "Epoch 15/100\n",
            "9/9 [==============================] - 0s 1ms/step - loss: 24.9890\n",
            "Epoch 16/100\n",
            "9/9 [==============================] - 0s 2ms/step - loss: 24.9883\n",
            "Epoch 17/100\n",
            "9/9 [==============================] - 0s 1ms/step - loss: 24.7730\n",
            "Epoch 18/100\n",
            "9/9 [==============================] - 0s 1ms/step - loss: 24.6614\n",
            "Epoch 19/100\n",
            "9/9 [==============================] - 0s 1ms/step - loss: 24.6474\n",
            "Epoch 20/100\n",
            "9/9 [==============================] - 0s 1ms/step - loss: 24.4370\n",
            "Epoch 21/100\n",
            "9/9 [==============================] - 0s 2ms/step - loss: 24.3098\n",
            "Epoch 22/100\n",
            "9/9 [==============================] - 0s 1ms/step - loss: 24.2262\n",
            "Epoch 23/100\n",
            "9/9 [==============================] - 0s 2ms/step - loss: 24.1141\n",
            "Epoch 24/100\n",
            "9/9 [==============================] - 0s 2ms/step - loss: 24.1015\n",
            "Epoch 25/100\n",
            "9/9 [==============================] - 0s 1ms/step - loss: 23.9585\n",
            "Epoch 26/100\n",
            "9/9 [==============================] - 0s 2ms/step - loss: 23.8417\n",
            "Epoch 27/100\n",
            "9/9 [==============================] - 0s 2ms/step - loss: 23.7264\n",
            "Epoch 28/100\n",
            "9/9 [==============================] - 0s 2ms/step - loss: 23.6890\n",
            "Epoch 29/100\n",
            "9/9 [==============================] - 0s 1ms/step - loss: 23.5594\n",
            "Epoch 30/100\n",
            "9/9 [==============================] - 0s 1ms/step - loss: 23.4874\n",
            "Epoch 31/100\n",
            "9/9 [==============================] - 0s 2ms/step - loss: 23.4520\n",
            "Epoch 32/100\n",
            "9/9 [==============================] - 0s 3ms/step - loss: 23.3485\n",
            "Epoch 33/100\n",
            "9/9 [==============================] - 0s 2ms/step - loss: 23.2369\n",
            "Epoch 34/100\n",
            "9/9 [==============================] - 0s 1ms/step - loss: 23.2079\n",
            "Epoch 35/100\n",
            "9/9 [==============================] - 0s 2ms/step - loss: 23.1822\n",
            "Epoch 36/100\n",
            "9/9 [==============================] - 0s 2ms/step - loss: 23.0385\n",
            "Epoch 37/100\n",
            "9/9 [==============================] - 0s 1ms/step - loss: 22.9283\n",
            "Epoch 38/100\n",
            "9/9 [==============================] - 0s 1ms/step - loss: 22.8530\n",
            "Epoch 39/100\n",
            "9/9 [==============================] - 0s 1ms/step - loss: 22.8081\n",
            "Epoch 40/100\n",
            "9/9 [==============================] - 0s 1ms/step - loss: 22.7702\n",
            "Epoch 41/100\n",
            "9/9 [==============================] - 0s 1ms/step - loss: 22.6317\n",
            "Epoch 42/100\n",
            "9/9 [==============================] - 0s 1ms/step - loss: 22.6036\n",
            "Epoch 43/100\n",
            "9/9 [==============================] - 0s 1ms/step - loss: 22.5909\n",
            "Epoch 44/100\n",
            "9/9 [==============================] - 0s 1ms/step - loss: 22.5642\n",
            "Epoch 45/100\n",
            "9/9 [==============================] - 0s 2ms/step - loss: 22.4100\n",
            "Epoch 46/100\n",
            "9/9 [==============================] - 0s 1ms/step - loss: 22.3320\n",
            "Epoch 47/100\n",
            "9/9 [==============================] - 0s 2ms/step - loss: 22.3399\n",
            "Epoch 48/100\n",
            "9/9 [==============================] - 0s 1ms/step - loss: 22.2513\n",
            "Epoch 49/100\n",
            "9/9 [==============================] - 0s 1ms/step - loss: 22.2627\n",
            "Epoch 50/100\n",
            "9/9 [==============================] - 0s 2ms/step - loss: 22.1473\n",
            "Epoch 51/100\n",
            "9/9 [==============================] - 0s 1ms/step - loss: 22.0753\n",
            "Epoch 52/100\n",
            "9/9 [==============================] - 0s 2ms/step - loss: 22.0837\n",
            "Epoch 53/100\n",
            "9/9 [==============================] - 0s 1ms/step - loss: 22.0506\n",
            "Epoch 54/100\n",
            "9/9 [==============================] - 0s 2ms/step - loss: 21.9708\n",
            "Epoch 55/100\n",
            "9/9 [==============================] - 0s 1ms/step - loss: 21.9406\n",
            "Epoch 56/100\n",
            "9/9 [==============================] - 0s 2ms/step - loss: 21.9184\n",
            "Epoch 57/100\n",
            "9/9 [==============================] - 0s 1ms/step - loss: 21.9511\n",
            "Epoch 58/100\n",
            "9/9 [==============================] - 0s 3ms/step - loss: 21.7935\n",
            "Epoch 59/100\n",
            "9/9 [==============================] - 0s 2ms/step - loss: 21.6983\n",
            "Epoch 60/100\n",
            "9/9 [==============================] - 0s 1ms/step - loss: 21.8301\n",
            "Epoch 61/100\n",
            "9/9 [==============================] - 0s 1ms/step - loss: 21.6882\n",
            "Epoch 62/100\n",
            "9/9 [==============================] - 0s 2ms/step - loss: 21.6039\n",
            "Epoch 63/100\n",
            "9/9 [==============================] - 0s 1ms/step - loss: 21.6674\n",
            "Epoch 64/100\n",
            "9/9 [==============================] - 0s 1ms/step - loss: 21.5567\n",
            "Epoch 65/100\n",
            "9/9 [==============================] - 0s 1ms/step - loss: 21.6032\n",
            "Epoch 66/100\n",
            "9/9 [==============================] - 0s 1ms/step - loss: 21.5017\n",
            "Epoch 67/100\n",
            "9/9 [==============================] - 0s 1ms/step - loss: 21.4392\n",
            "Epoch 68/100\n",
            "9/9 [==============================] - 0s 1ms/step - loss: 21.4545\n",
            "Epoch 69/100\n",
            "9/9 [==============================] - 0s 1ms/step - loss: 21.5069\n",
            "Epoch 70/100\n",
            "9/9 [==============================] - 0s 1ms/step - loss: 21.3556\n",
            "Epoch 71/100\n",
            "9/9 [==============================] - 0s 1ms/step - loss: 21.3840\n",
            "Epoch 72/100\n",
            "9/9 [==============================] - 0s 2ms/step - loss: 21.4289\n",
            "Epoch 73/100\n",
            "9/9 [==============================] - 0s 2ms/step - loss: 21.3226\n",
            "Epoch 74/100\n",
            "9/9 [==============================] - 0s 1ms/step - loss: 21.2239\n",
            "Epoch 75/100\n",
            "9/9 [==============================] - 0s 1ms/step - loss: 21.2407\n",
            "Epoch 76/100\n",
            "9/9 [==============================] - 0s 2ms/step - loss: 21.2152\n",
            "Epoch 77/100\n",
            "9/9 [==============================] - 0s 2ms/step - loss: 21.1653\n",
            "Epoch 78/100\n",
            "9/9 [==============================] - 0s 2ms/step - loss: 21.2493\n",
            "Epoch 79/100\n",
            "9/9 [==============================] - 0s 1ms/step - loss: 21.1514\n",
            "Epoch 80/100\n",
            "9/9 [==============================] - 0s 1ms/step - loss: 21.1927\n",
            "Epoch 81/100\n",
            "9/9 [==============================] - 0s 1ms/step - loss: 21.0666\n",
            "Epoch 82/100\n",
            "9/9 [==============================] - 0s 1ms/step - loss: 21.0516\n",
            "Epoch 83/100\n",
            "9/9 [==============================] - 0s 1ms/step - loss: 21.1608\n",
            "Epoch 84/100\n",
            "9/9 [==============================] - 0s 2ms/step - loss: 21.1425\n",
            "Epoch 85/100\n",
            "9/9 [==============================] - 0s 2ms/step - loss: 21.0109\n",
            "Epoch 86/100\n",
            "9/9 [==============================] - 0s 2ms/step - loss: 20.9653\n",
            "Epoch 87/100\n",
            "9/9 [==============================] - 0s 1ms/step - loss: 20.9575\n",
            "Epoch 88/100\n",
            "9/9 [==============================] - 0s 1ms/step - loss: 20.9648\n",
            "Epoch 89/100\n",
            "9/9 [==============================] - 0s 1ms/step - loss: 20.8807\n",
            "Epoch 90/100\n",
            "9/9 [==============================] - 0s 1ms/step - loss: 20.8937\n",
            "Epoch 91/100\n",
            "9/9 [==============================] - 0s 2ms/step - loss: 20.8850\n",
            "Epoch 92/100\n",
            "9/9 [==============================] - 0s 1ms/step - loss: 20.9678\n",
            "Epoch 93/100\n",
            "9/9 [==============================] - 0s 1ms/step - loss: 20.8818\n",
            "Epoch 94/100\n",
            "9/9 [==============================] - 0s 1ms/step - loss: 20.8300\n",
            "Epoch 95/100\n",
            "9/9 [==============================] - 0s 978us/step - loss: 20.7948\n",
            "Epoch 96/100\n",
            "9/9 [==============================] - 0s 2ms/step - loss: 20.8221\n",
            "Epoch 97/100\n",
            "9/9 [==============================] - 0s 1ms/step - loss: 20.7390\n",
            "Epoch 98/100\n",
            "9/9 [==============================] - 0s 1ms/step - loss: 20.7362\n",
            "Epoch 99/100\n",
            "9/9 [==============================] - 0s 1ms/step - loss: 20.7561\n",
            "Epoch 100/100\n",
            "9/9 [==============================] - 0s 1ms/step - loss: 20.7109\n"
          ],
          "name": "stdout"
        }
      ]
    },
    {
      "cell_type": "code",
      "metadata": {
        "id": "zs34VPj0Vvkn",
        "colab": {
          "base_uri": "https://localhost:8080/",
          "height": 320
        },
        "outputId": "5881ba77-dba5-444a-8f62-958c3dbe7d5c"
      },
      "source": [
        "# 4.학습과정 시각화\n",
        "plt.figure(figsize=(15, 5))\n",
        "\n",
        "plt.plot(range(1, 101, 1),     # epochs를 100까지 설정했기 때문에 1, 101\n",
        "         # history : 학습시 출력되는 loss함수 혹은 정확도값을 보기 위한 명령\n",
        "         h2.history['loss'],\n",
        "         label='loss'\n",
        "         ) \n",
        "plt.legend()\n",
        "plt.show()"
      ],
      "execution_count": 48,
      "outputs": [
        {
          "output_type": "display_data",
          "data": {
            "image/png": "[encoded data removed]",
            "text/plain": [
              "<Figure size 1080x360 with 1 Axes>"
            ]
          },
          "metadata": {
            "tags": [],
            "needs_background": "light"
          }
        }
      ]
    },
    {
      "cell_type": "code",
      "metadata": {
        "colab": {
          "base_uri": "https://localhost:8080/"
        },
        "id": "RuWmyAiaLMH2",
        "outputId": "76d7d992-e14b-4cac-9a9a-61febe524fb2"
      },
      "source": [
        "model1.evaluate(X1_test, y1_test)"
      ],
      "execution_count": 50,
      "outputs": [
        {
          "output_type": "stream",
          "text": [
            "4/4 [==============================] - 0s 2ms/step - loss: 21.5757\n"
          ],
          "name": "stdout"
        },
        {
          "output_type": "execute_result",
          "data": {
            "text/plain": [
              "21.575716018676758"
            ]
          },
          "metadata": {
            "tags": []
          },
          "execution_count": 50
        }
      ]
    },
    {
      "cell_type": "code",
      "metadata": {
        "id": "FzyalxtzRDb6"
      },
      "source": [
        ""
      ],
      "execution_count": null,
      "outputs": []
    }
  ]
}